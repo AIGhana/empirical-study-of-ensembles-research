{
 "cells": [
  {
   "cell_type": "markdown",
   "metadata": {},
   "source": [
    "### An Empirical Study of Ensemble Techniques (Bagging, Boosting and Stacking)\n",
    "\n",
    "This Notebook contains the code, process, mehods used when working on the research project titled above. Fist we present the abstract and then a link to the full paper.\n",
    "\n",
    "### Abstract\n",
    "Ensemble methods are popular strategies for improving the predictive ability of a\n",
    "machine learning model. An ensemble consists of a set of individually trained base\n",
    "learners/models whose predictions are combined when classifying new cases. Previous\n",
    "researches have shown that an ensemble is on the average more accurate than a single\n",
    "base model. Bagging, Boosting and Stacking are some popular ensemble techniques\n",
    "which we studied in this paper. We evaluated these ensembles on 9 data sets. From our\n",
    "results, we observed the following. First, an ensemble is always more accurate than a\n",
    "single base model. Secondly, we observed that Boosting ensembles is on the average\n",
    "better than Bagging while Stacking (meta-learning) is on the average more accurate than\n",
    "Boosting and Bagging. Further experiment also shows that the gain in predictive power\n",
    "of any ensembles may sometimes be small or even decrease depending on the data set.\n",
    "\n",
    "#### Link to full paper [here]() \n"
   ]
  },
  {
   "cell_type": "code",
   "execution_count": 1,
   "metadata": {
    "_cell_guid": "2dbccbd6-138b-4f1b-9b23-fd60c7525c14",
    "_execution_state": "idle",
    "_uuid": "c9b1d5dff21d39260eb47af6fe7aac4bd03be233"
   },
   "outputs": [],
   "source": [
    "#import some necessary librairies\n",
    "import numpy as np # linear algebra\n",
    "import pandas as pd # data processing, CSV file I/O (e.g. pd.read_csv)\n",
    "%matplotlib inline\n",
    "import matplotlib.pyplot as plt  # Matlab-style plotting\n",
    "import seaborn as sns\n",
    "color = sns.color_palette()\n",
    "sns.set_style('darkgrid')\n",
    "import warnings\n",
    "def ignore_warn(*args, **kwargs):\n",
    "    pass\n",
    "warnings.warn = ignore_warn #ignore annoying warning (from sklearn and seaborn)\n",
    "\n",
    "pd.set_option('display.float_format', lambda x: '{:.3f}'.format(x)) #Limiting floats output to 3 decimal points\n"
   ]
  },
  {
   "cell_type": "code",
   "execution_count": 2,
   "metadata": {},
   "outputs": [],
   "source": [
    "#Import datasets\n",
    "loan_default = pd.read_csv('DSN_loan_default_ensemble_train.csv')\n",
    "house_pricing = pd.read_csv('House_Prices_ensemble_research_train.csv')\n",
    "tweets_data = pd.read_csv('retweet_prediction.csv')\n",
    "traffic_data = pd.read_csv('Traffic_ticket_sales_ensemble_train.csv')\n",
    "avocado_data = pd.read_csv('avocado.csv')\n",
    "real_estate = pd.read_excel('Real estate valuation data set.xlsx')\n",
    "german_cred = pd.read_csv('credit_preped.csv')\n",
    "auto_mobile = pd.read_csv('auto_prices_preped.csv')\n",
    "supermarket_sales = pd.read_csv('supermarket_sales.csv')"
   ]
  },
  {
   "cell_type": "markdown",
   "metadata": {},
   "source": [
    "All data set have been cleaned and encoding from previous works. Below, in the nex cell, we perform a simple cleaning and transformation on the real estate, avocado and loan default data sets."
   ]
  },
  {
   "cell_type": "code",
   "execution_count": 3,
   "metadata": {},
   "outputs": [],
   "source": [
    "real_estate.drop(['No', 'X1 transaction date'],axis=1, inplace=True)\n",
    "avocado_data.drop(['Unnamed: 0','Date'],axis=1, inplace=True)\n",
    "\n",
    "#Encode data\n",
    "avocado_data = pd.get_dummies(avocado_data)\n",
    "\n",
    "\n",
    "#Fill missing values in loan dataset and supermarket sales data\n",
    "from sklearn.impute import SimpleImputer\n",
    "\n",
    "impute = SimpleImputer()\n",
    "impute.fit(loan_default)\n",
    "loan_default = impute.transform(loan_default)\n",
    "\n",
    "impute = SimpleImputer()\n",
    "impute.fit(supermarket_sales)\n",
    "supermarket_sales = impute.transform(supermarket_sales)"
   ]
  },
  {
   "cell_type": "markdown",
   "metadata": {},
   "source": [
    "Next, we seperate all targets from the data sets and assign them to new variables."
   ]
  },
  {
   "cell_type": "code",
   "execution_count": 4,
   "metadata": {},
   "outputs": [],
   "source": [
    "\n",
    "loan_default_target = loan_default['target']\n",
    "loan_default.drop('target', axis=1, inplace=True)\n",
    "\n",
    "house_pricing_target = house_pricing['target']\n",
    "house_pricing.drop('target', axis=1, inplace=True)\n",
    "\n",
    "tweets_data_target = tweets_data['retweets_target']\n",
    "tweets_data.drop('retweets_target', axis=1, inplace=True)\n",
    "\n",
    "traffic_data_target = traffic_data['target']\n",
    "traffic_data.drop('target', axis=1, inplace=True)\n",
    "\n",
    "avocado_data_target = avocado_data['AveragePrice']\n",
    "avocado_data.drop('AveragePrice', axis=1, inplace=True)\n",
    "\n",
    "real_estate_target = real_estate['Y house price of unit area']\n",
    "real_estate.drop('Y house price of unit area', axis=1, inplace=True)\n",
    "\n",
    "auto_mobile_target = auto_mobile['price']\n",
    "auto_mobile.drop('price', axis=1, inplace=True)\n",
    "\n",
    "german_cred_target = german_cred['age_yrs']\n",
    "german_cred.drop('age_yrs', axis=1, inplace=True)\n",
    "\n",
    "supermarket_sales_target = supermarket_sales['Product_Price']\n",
    "supermarket_sales.drop('Product_Price', axis=1, inplace=True)"
   ]
  },
  {
   "cell_type": "code",
   "execution_count": 9,
   "metadata": {},
   "outputs": [],
   "source": [
    "train_data = [loan_default, house_pricing,tweets_data,traffic_data,\n",
    "              avocado_data, real_estate, auto_mobile, german_cred, supermarket_sales]\n",
    "\n",
    "train_targets = [loan_default_target, house_pricing_target,tweets_data_target, traffic_data_target,\n",
    "                 avocado_data_target, real_estate_target, auto_mobile_target, german_cred_target, supermarket_sales_target]\n",
    "\n",
    "data_names = ['loan_default','house_pricing','tweets_data', 'traffic_data',\n",
    "              'avocado_data', 'real_estate','auto_mobile', 'german_cred', 'supermarket_sales' ]\n",
    "\n"
   ]
  },
  {
   "cell_type": "code",
   "execution_count": 10,
   "metadata": {},
   "outputs": [
    {
     "name": "stdout",
     "output_type": "stream",
     "text": [
      "1. shape of loan_default is (4368, 129) and shape of target is (4368,)\n",
      "2. shape of house_pricing is (1458, 220) and shape of target is (1458,)\n",
      "3. shape of tweets_data is (89309, 94) and shape of target is (89309,)\n",
      "4. shape of traffic_data is (51645, 68) and shape of target is (51645,)\n",
      "5. shape of avocado_data is (18249, 65) and shape of target is (18249,)\n",
      "6. shape of real_estate is (414, 5) and shape of target is (414,)\n",
      "7. shape of auto_mobile is (195, 66) and shape of target is (195,)\n",
      "8. shape of german_cred is (1000, 62) and shape of target is (1000,)\n",
      "9. shape of supermarket_sales is (4990, 32) and shape of target is (4990,)\n"
     ]
    }
   ],
   "source": [
    "for i in range(len(data_names)):\n",
    "    print('{}. shape of {} is {} and shape of target is {}'.format(i+1, data_names[i], train_data[i].shape, train_targets[i].shape))"
   ]
  },
  {
   "cell_type": "markdown",
   "metadata": {
    "_cell_guid": "811925a6-341f-4cae-89c9-00983868a6b2",
    "_execution_state": "idle",
    "_uuid": "be4e4b315682b26359eba1ba3d65022aca9501e1"
   },
   "source": [
    "## **MODELLING**"
   ]
  },
  {
   "cell_type": "code",
   "execution_count": 11,
   "metadata": {
    "_cell_guid": "135e8ac5-ce46-4a5f-b205-13f827ef33b8",
    "_execution_state": "idle",
    "_uuid": "fc664fbe27561a3697d0210921107b0e14b7d211"
   },
   "outputs": [],
   "source": [
    "from sklearn.linear_model import LinearRegression, HuberRegressor\n",
    "from sklearn.svm import SVR\n",
    "from sklearn.neighbors import KNeighborsRegressor\n",
    "from sklearn.ensemble import RandomForestRegressor, ExtraTreesRegressor, GradientBoostingRegressor, BaggingRegressor, AdaBoostRegressor\n",
    "from sklearn.preprocessing import RobustScaler\n",
    "from sklearn.base import BaseEstimator, TransformerMixin, RegressorMixin, clone\n",
    "from sklearn.model_selection import KFold, cross_val_score\n",
    "# from sklearn.metrics import mean_absolute_error\n",
    "#import xgboost as xgb\n",
    "from lightgbm import LGBMRegressor\n",
    "\n",
    "r_seed = 200\n",
    "np.random.seed(r_seed)\n",
    "\n"
   ]
  },
  {
   "cell_type": "markdown",
   "metadata": {
    "_cell_guid": "42e1565e-77a1-41a7-ac31-893e405d34ad",
    "_execution_state": "busy",
    "_uuid": "643ae2c4a88576ebbd55824ce8e654486087a6e0"
   },
   "source": [
    "## Single Base models"
   ]
  },
  {
   "cell_type": "code",
   "execution_count": 11,
   "metadata": {
    "_cell_guid": "03f45cb7-0a40-45ea-94e8-64fd7ff1e8f6",
    "_execution_state": "idle",
    "_uuid": "2a50c954cb771d350c3092c3658486ba4d22aba5"
   },
   "outputs": [],
   "source": [
    "#Single base models\n",
    "lr = LinearRegression()\n",
    "knn = KNeighborsRegressor()\n",
    "rf = RandomForestRegressor(n_estimators=50)\n",
    "et = ExtraTreesRegressor(n_estimators=50)\n",
    "\n",
    "base_models = [lr,knn,rf,et]\n",
    "\n",
    "\n",
    "#Boosting algorithms\n",
    "gb = GradientBoostingRegressor(n_estimators=100)\n",
    "ab = AdaBoostRegressor(n_estimators=100)\n",
    "lgb_model = LGBMRegressor(n_estimators=100)\n",
    "\n",
    "boost_model = [gb,ab,lgb_model]\n"
   ]
  },
  {
   "cell_type": "markdown",
   "metadata": {},
   "source": [
    "## BASE MODEL AND BAGGING"
   ]
  },
  {
   "cell_type": "code",
   "execution_count": 13,
   "metadata": {
    "_cell_guid": "2d0cc958-1654-425c-90ed-1ceb9edd7186",
    "_execution_state": "idle",
    "_uuid": "7d994349237b9304b0d17719e1af077e69288229",
    "scrolled": true
   },
   "outputs": [],
   "source": [
    "for i, (x, y) in enumerate(zip(train_data, train_targets)):\n",
    "    print(\"Data Set: {}\".format(data_names[i]))\n",
    "    #Loop through each model and cross validate\n",
    "    for model in base_models:\n",
    "        b_score = -1 * (cross_val_score(model, x, y, cv=5, n_jobs=-1, scoring='neg_mean_absolute_error'))\n",
    "        bagg_reg = BaggingRegressor(model, random_state=20)\n",
    "        bagg_score = -1 * (cross_val_score(bagg_reg, x, y, cv=5, n_jobs=-1, scoring='neg_mean_absolute_error'))\n",
    "        \n",
    "        print(\"MAE: {}, Model: {}\".format(b_score[0], model.__class__.__name__))\n",
    "        print(\"MAE: {}, Bagging Model: {}\".format(bagg_score[0], model.__class__.__name__))\n",
    "        print(\"----------------------------------------------\")\n",
    "\n",
    "    print('\\n')"
   ]
  },
  {
   "cell_type": "markdown",
   "metadata": {},
   "source": [
    "## BOOSTING"
   ]
  },
  {
   "cell_type": "code",
   "execution_count": 14,
   "metadata": {},
   "outputs": [],
   "source": [
    "for i, (x, y) in enumerate(zip(train_data, train_targets)):\n",
    "    print(\"Data Set: {}\".format(data_names[i]))\n",
    "\n",
    "    #Loop through each model and cross validate\n",
    "    for model in boost_model:\n",
    "        bst_score = -1 * (cross_val_score(model, x, y, cv=5, n_jobs=-1, scoring='neg_mean_absolute_error'))        \n",
    "#         bagg_reg = BaggingRegressor(model, random_state=20)\n",
    "#         bagg_score = -1 * (cross_val_score(bagg_reg, x, y, cv=5, n_jobs=-1, scoring='neg_mean_absolute_error'))\n",
    "        \n",
    "        print(\"MAE: {}, Model: {}\".format(bst_score[0], model.__class__.__name__))\n",
    "#         print(\"MAE: {}, Bagging Model: {}\".format(bagg_score[0], model.__class__.__name__))\n",
    "\n",
    "        print(\"----------------------------------------------\")\n",
    "\n",
    "    print('\\n')\n"
   ]
  },
  {
   "cell_type": "markdown",
   "metadata": {
    "_cell_guid": "1114bc71-7eb5-4a7c-97a1-42a69cc21130",
    "_execution_state": "idle",
    "_uuid": "06d3adc16585b54a85113882975297c67672ea07"
   },
   "source": [
    "## Stacking  models"
   ]
  },
  {
   "cell_type": "markdown",
   "metadata": {
    "_cell_guid": "cb18e314-968d-4765-942a-5706d0f4f815",
    "_execution_state": "idle",
    "_uuid": "69f216ce13eb61f0d07403986a2d38b11e18ae6a"
   },
   "source": [
    "In this approach, we add a meta-model on averaged base models and use the out-of-folds predictions of these base models to train our meta-model. \n",
    "\n",
    "The procedure, for the training part, may be described as follows:\n",
    "\n",
    "\n",
    "1. Split the total training set into two disjoint sets (here **train** and .**holdout** )\n",
    "\n",
    "2. Train several base models on the first part (**train**)\n",
    "\n",
    "3. Test these base models on the second part (**holdout**)\n",
    "\n",
    "4. Use the predictions from 3)  (called  out-of-folds predictions) as the inputs, and the correct responses (target variable) as the outputs  to train a higher level learner called **meta-model**.\n",
    "\n",
    "The first three steps are done iteratively . If we take for example a 5-fold stacking , we first split the training data into 5 folds. Then we will do 5 iterations. In each iteration,  we train every base model on 4 folds and predict on the remaining fold (holdout fold). \n",
    "\n",
    "So, we will be sure, after 5 iterations , that the entire data is used to get out-of-folds predictions that we will then use as \n",
    "new feature to train our meta-model in the step 4.\n",
    "\n",
    "For the prediction part , We average the predictions of  all base models on the test data  and used them as **meta-features**  on which, the final prediction is done with the meta-model.\n"
   ]
  },
  {
   "cell_type": "markdown",
   "metadata": {
    "_cell_guid": "bd10661e-6eec-4789-83fa-d55b77619252",
    "_execution_state": "idle",
    "_uuid": "5374a729325ac38423ff82891f1cc887f14ba317"
   },
   "source": [
    "**Stacking averaged Models Class**"
   ]
  },
  {
   "cell_type": "code",
   "execution_count": 15,
   "metadata": {
    "_cell_guid": "03326750-2442-4e14-8774-6e2ce9330173",
    "_execution_state": "idle",
    "_uuid": "9115cf7180ba9491bd0a2c5bd566e18238c9de80",
    "collapsed": true,
    "jupyter": {
     "outputs_hidden": true
    }
   },
   "outputs": [],
   "source": [
    "class StackingAveragedModels(BaseEstimator, RegressorMixin, TransformerMixin):\n",
    "    def __init__(self, base_models, meta_model, n_folds=10):\n",
    "        self.base_models = base_models\n",
    "        self.meta_model = meta_model\n",
    "        self.n_folds = n_folds\n",
    "   \n",
    "    # We again fit the data on clones of the original models\n",
    "    def fit(self, X, y):\n",
    "        self.base_models_ = [list() for x in self.base_models]\n",
    "        self.meta_model_ = clone(self.meta_model)\n",
    "        kfold = KFold(n_splits=self.n_folds, shuffle=True, random_state=156)\n",
    "        \n",
    "        # Train cloned base models then create out-of-fold predictions\n",
    "        # that are needed to train the cloned meta-model\n",
    "        out_of_fold_predictions = np.zeros((X.shape[0], len(self.base_models)))\n",
    "        for i, model in enumerate(self.base_models):\n",
    "            for train_index, holdout_index in kfold.split(X, y):\n",
    "                instance = clone(model)\n",
    "                self.base_models_[i].append(instance)\n",
    "                instance.fit(np.array(X)[train_index], np.array(y)[train_index])\n",
    "                y_pred = instance.predict(np.array(X)[holdout_index])\n",
    "                out_of_fold_predictions[holdout_index, i] = y_pred\n",
    "                \n",
    "        # Now train the cloned  meta-model using the out-of-fold predictions as new feature\n",
    "        self.meta_model_.fit(out_of_fold_predictions, y)\n",
    "        return self\n",
    "   \n",
    "    #Do the predictions of all base models on the test data and use the averaged predictions as \n",
    "    #meta-features for the final prediction which is done by the meta-model\n",
    "    def predict(self, X):\n",
    "        meta_features = np.column_stack([\n",
    "            np.column_stack([model.predict(X) for model in base_models]).mean(axis=1)\n",
    "            for base_models in self.base_models_ ])\n",
    "        return self.meta_model_.predict(meta_features)"
   ]
  },
  {
   "cell_type": "code",
   "execution_count": 17,
   "metadata": {
    "_cell_guid": "4db03a27-e9fb-484d-bbfe-2058f16dce77",
    "_execution_state": "idle",
    "_uuid": "f2c78b5950097660d3f8b84bade8d8dbdc3964f2",
    "collapsed": true,
    "jupyter": {
     "outputs_hidden": true
    }
   },
   "outputs": [],
   "source": [
    "first_learners = [knn, rf,et, gb,lgb_model]\n",
    "stacked_averaged_models = StackingAveragedModels(base_models = first_learners,\n",
    "                                                 meta_model = lgb_model)"
   ]
  },
  {
   "cell_type": "code",
   "execution_count": null,
   "metadata": {},
   "outputs": [],
   "source": [
    "print(\"Using Stacking Model: Meta learner\")\n",
    "print(\"----------------------------------------------\")\n",
    "\n",
    "for i, (x, y) in enumerate(zip(train_data, train_targets)):\n",
    "    print(\"Data Set: {}\".format(data_names[i]))\n",
    "    meta_score = -1 * (cross_val_score(stacked_averaged_models, x, y, cv=5, n_jobs=-1, scoring='neg_mean_absolute_error'))        \n",
    "    print(\"MAE: {} \".format(meta_score[0]))\n"
   ]
  },
  {
   "cell_type": "markdown",
   "metadata": {},
   "source": [
    "### VISUALIZATION OF RESULTS"
   ]
  },
  {
   "cell_type": "markdown",
   "metadata": {},
   "source": [
    "The result were hand recorded and saved to a csv file after observing the print outs from the training process."
   ]
  },
  {
   "cell_type": "code",
   "execution_count": 2,
   "metadata": {},
   "outputs": [],
   "source": [
    "#read csv of result\n",
    "results = pd.read_csv('results_data.csv')"
   ]
  },
  {
   "cell_type": "code",
   "execution_count": 91,
   "metadata": {},
   "outputs": [
    {
     "data": {
      "text/html": [
       "<div>\n",
       "<style scoped>\n",
       "    .dataframe tbody tr th:only-of-type {\n",
       "        vertical-align: middle;\n",
       "    }\n",
       "\n",
       "    .dataframe tbody tr th {\n",
       "        vertical-align: top;\n",
       "    }\n",
       "\n",
       "    .dataframe thead th {\n",
       "        text-align: right;\n",
       "    }\n",
       "</style>\n",
       "<table border=\"1\" class=\"dataframe\">\n",
       "  <thead>\n",
       "    <tr style=\"text-align: right;\">\n",
       "      <th></th>\n",
       "      <th>Datasets</th>\n",
       "      <th>LR</th>\n",
       "      <th>KNN</th>\n",
       "      <th>RF</th>\n",
       "      <th>ET</th>\n",
       "      <th>LR_BAG</th>\n",
       "      <th>KNN_BAG</th>\n",
       "      <th>RF_BAG</th>\n",
       "      <th>ET_BAG</th>\n",
       "      <th>GB</th>\n",
       "      <th>ADAB</th>\n",
       "      <th>LGB</th>\n",
       "      <th>STACKED_MODEL</th>\n",
       "    </tr>\n",
       "  </thead>\n",
       "  <tbody>\n",
       "    <tr>\n",
       "      <th>0</th>\n",
       "      <td>loan_default</td>\n",
       "      <td>0.321</td>\n",
       "      <td>0.324</td>\n",
       "      <td>0.328</td>\n",
       "      <td>0.328</td>\n",
       "      <td>0.319</td>\n",
       "      <td>0.314</td>\n",
       "      <td>0.311</td>\n",
       "      <td>0.320</td>\n",
       "      <td>0.303</td>\n",
       "      <td>0.355</td>\n",
       "      <td>0.293</td>\n",
       "      <td>0.300</td>\n",
       "    </tr>\n",
       "    <tr>\n",
       "      <th>1</th>\n",
       "      <td>house_pricing</td>\n",
       "      <td>2.457</td>\n",
       "      <td>0.164</td>\n",
       "      <td>0.097</td>\n",
       "      <td>0.089</td>\n",
       "      <td>0.082</td>\n",
       "      <td>0.161</td>\n",
       "      <td>0.094</td>\n",
       "      <td>0.084</td>\n",
       "      <td>0.080</td>\n",
       "      <td>0.102</td>\n",
       "      <td>0.079</td>\n",
       "      <td>0.079</td>\n",
       "    </tr>\n",
       "    <tr>\n",
       "      <th>2</th>\n",
       "      <td>tweets_data</td>\n",
       "      <td>6.503</td>\n",
       "      <td>5.706</td>\n",
       "      <td>6.133</td>\n",
       "      <td>6.124</td>\n",
       "      <td>6.400</td>\n",
       "      <td>5.787</td>\n",
       "      <td>6.118</td>\n",
       "      <td>6.102</td>\n",
       "      <td>5.822</td>\n",
       "      <td>20.937</td>\n",
       "      <td>5.768</td>\n",
       "      <td>5.611</td>\n",
       "    </tr>\n",
       "    <tr>\n",
       "      <th>3</th>\n",
       "      <td>traffic_data</td>\n",
       "      <td>15.500</td>\n",
       "      <td>4.833</td>\n",
       "      <td>4.367</td>\n",
       "      <td>4.393</td>\n",
       "      <td>15.130</td>\n",
       "      <td>4.350</td>\n",
       "      <td>4.320</td>\n",
       "      <td>4.251</td>\n",
       "      <td>4.104</td>\n",
       "      <td>4.147</td>\n",
       "      <td>4.059</td>\n",
       "      <td>4.027</td>\n",
       "    </tr>\n",
       "    <tr>\n",
       "      <th>4</th>\n",
       "      <td>avocado_data</td>\n",
       "      <td>0.145</td>\n",
       "      <td>0.227</td>\n",
       "      <td>0.128</td>\n",
       "      <td>0.137</td>\n",
       "      <td>0.145</td>\n",
       "      <td>0.225</td>\n",
       "      <td>0.122</td>\n",
       "      <td>0.130</td>\n",
       "      <td>0.123</td>\n",
       "      <td>0.210</td>\n",
       "      <td>0.115</td>\n",
       "      <td>0.132</td>\n",
       "    </tr>\n",
       "    <tr>\n",
       "      <th>5</th>\n",
       "      <td>real_estate</td>\n",
       "      <td>5.654</td>\n",
       "      <td>5.310</td>\n",
       "      <td>4.768</td>\n",
       "      <td>4.571</td>\n",
       "      <td>5.611</td>\n",
       "      <td>5.258</td>\n",
       "      <td>4.315</td>\n",
       "      <td>4.314</td>\n",
       "      <td>4.558</td>\n",
       "      <td>5.429</td>\n",
       "      <td>4.620</td>\n",
       "      <td>4.277</td>\n",
       "    </tr>\n",
       "    <tr>\n",
       "      <th>6</th>\n",
       "      <td>auto_mobile</td>\n",
       "      <td>4848.590</td>\n",
       "      <td>3649.450</td>\n",
       "      <td>2253.390</td>\n",
       "      <td>2199.360</td>\n",
       "      <td>4234.380</td>\n",
       "      <td>3641.140</td>\n",
       "      <td>2217.870</td>\n",
       "      <td>2101.130</td>\n",
       "      <td>2184.832</td>\n",
       "      <td>2209.549</td>\n",
       "      <td>2199.980</td>\n",
       "      <td>2101.070</td>\n",
       "    </tr>\n",
       "    <tr>\n",
       "      <th>7</th>\n",
       "      <td>german_cred</td>\n",
       "      <td>7.550</td>\n",
       "      <td>10.544</td>\n",
       "      <td>7.360</td>\n",
       "      <td>8.004</td>\n",
       "      <td>7.617</td>\n",
       "      <td>10.256</td>\n",
       "      <td>7.181</td>\n",
       "      <td>7.225</td>\n",
       "      <td>7.725</td>\n",
       "      <td>8.531</td>\n",
       "      <td>7.854</td>\n",
       "      <td>7.276</td>\n",
       "    </tr>\n",
       "    <tr>\n",
       "      <th>8</th>\n",
       "      <td>supermarket_sales</td>\n",
       "      <td>75.732</td>\n",
       "      <td>81.908</td>\n",
       "      <td>80.974</td>\n",
       "      <td>86.290</td>\n",
       "      <td>75.627</td>\n",
       "      <td>80.930</td>\n",
       "      <td>79.418</td>\n",
       "      <td>81.093</td>\n",
       "      <td>74.802</td>\n",
       "      <td>75.160</td>\n",
       "      <td>74.470</td>\n",
       "      <td>71.458</td>\n",
       "    </tr>\n",
       "  </tbody>\n",
       "</table>\n",
       "</div>"
      ],
      "text/plain": [
       "             Datasets       LR      KNN       RF       ET   LR_BAG  KNN_BAG  \\\n",
       "0       loan_default     0.321    0.324    0.328    0.328    0.319    0.314   \n",
       "1      house_pricing     2.457    0.164    0.097    0.089    0.082    0.161   \n",
       "2        tweets_data     6.503    5.706    6.133    6.124    6.400    5.787   \n",
       "3       traffic_data    15.500    4.833    4.367    4.393   15.130    4.350   \n",
       "4       avocado_data     0.145    0.227    0.128    0.137    0.145    0.225   \n",
       "5        real_estate     5.654    5.310    4.768    4.571    5.611    5.258   \n",
       "6        auto_mobile  4848.590 3649.450 2253.390 2199.360 4234.380 3641.140   \n",
       "7        german_cred     7.550   10.544    7.360    8.004    7.617   10.256   \n",
       "8  supermarket_sales    75.732   81.908   80.974   86.290   75.627   80.930   \n",
       "\n",
       "    RF_BAG   ET_BAG       GB     ADAB      LGB  STACKED_MODEL  \n",
       "0    0.311    0.320    0.303    0.355    0.293          0.300  \n",
       "1    0.094    0.084    0.080    0.102    0.079          0.079  \n",
       "2    6.118    6.102    5.822   20.937    5.768          5.611  \n",
       "3    4.320    4.251    4.104    4.147    4.059          4.027  \n",
       "4    0.122    0.130    0.123    0.210    0.115          0.132  \n",
       "5    4.315    4.314    4.558    5.429    4.620          4.277  \n",
       "6 2217.870 2101.130 2184.832 2209.549 2199.980       2101.070  \n",
       "7    7.181    7.225    7.725    8.531    7.854          7.276  \n",
       "8   79.418   81.093   74.802   75.160   74.470         71.458  "
      ]
     },
     "execution_count": 91,
     "metadata": {},
     "output_type": "execute_result"
    }
   ],
   "source": [
    "results"
   ]
  },
  {
   "cell_type": "markdown",
   "metadata": {},
   "source": [
    "### VISUALIZATION OF RESULTS"
   ]
  },
  {
   "cell_type": "code",
   "execution_count": 4,
   "metadata": {},
   "outputs": [],
   "source": [
    "avg_mae = results.sum(axis=0).drop(['Datasets'], axis=0)\n",
    "\n",
    "single_vs_bag = avg_mae[0:8]\n",
    "bag_vs_boost = avg_mae[4:11]\n",
    "boost_vs_stacked = avg_mae[8:]"
   ]
  },
  {
   "cell_type": "code",
   "execution_count": null,
   "metadata": {},
   "outputs": [],
   "source": []
  },
  {
   "cell_type": "markdown",
   "metadata": {},
   "source": [
    "#### Single vs bagged ensembles (Avg MAE Plot)"
   ]
  },
  {
   "cell_type": "code",
   "execution_count": 108,
   "metadata": {},
   "outputs": [
    {
     "data": {
      "image/png": "[encoded data removed]",
      "text/plain": [
       "<Figure size 432x432 with 1 Axes>"
      ]
     },
     "metadata": {
      "needs_background": "light"
     },
     "output_type": "display_data"
    }
   ],
   "source": [
    "colors = ['r','b','y','g','r','b','y','g']\n",
    "\n",
    "#Plot average comparison plots\n",
    "fig = plt.figure(figsize=(6,6)) # define plot area\n",
    "ax = fig.gca() # define axis  \n",
    "\n",
    "single_vs_bag.plot.bar(ax=ax, color=colors)\n",
    "ax.set_title('Single vs bagged ensembles (Avg MAE Plot)' )\n",
    "plt.savefig('Single_vs_bagged_ensembles')"
   ]
  },
  {
   "cell_type": "markdown",
   "metadata": {},
   "source": [
    "### Bagged vs Boost ensembles (Avg MAE Plot)"
   ]
  },
  {
   "cell_type": "code",
   "execution_count": 5,
   "metadata": {},
   "outputs": [
    {
     "data": {
      "image/png": "[encoded data removed]",
      "text/plain": [
       "<Figure size 432x432 with 1 Axes>"
      ]
     },
     "metadata": {
      "needs_background": "light"
     },
     "output_type": "display_data"
    }
   ],
   "source": [
    "colors = ['r','r','r','r','b','b','b']\n",
    "\n",
    "#Plot average comparison plots\n",
    "fig = plt.figure(figsize=(6,6)) # define plot area\n",
    "ax = fig.gca() # define axis  \n",
    "\n",
    "bag_vs_boost.plot.bar(ax=ax, color=colors)\n",
    "ax.set_title('Bagged vs Boost ensembles (Avg MAE Plot)' )\n",
    "plt.savefig('Bagged_vs_Boost_ensembles')"
   ]
  },
  {
   "cell_type": "markdown",
   "metadata": {},
   "source": [
    "### Boost vs stacked ensembles (Avg MAE Plot)"
   ]
  },
  {
   "cell_type": "code",
   "execution_count": 110,
   "metadata": {},
   "outputs": [
    {
     "data": {
      "image/png": "[encoded data removed]",
      "text/plain": [
       "<Figure size 432x432 with 1 Axes>"
      ]
     },
     "metadata": {
      "needs_background": "light"
     },
     "output_type": "display_data"
    }
   ],
   "source": [
    "colors = ['r','r','r','b']\n",
    "\n",
    "#Plot average comparison plots\n",
    "fig = plt.figure(figsize=(6,6)) # define plot area\n",
    "ax = fig.gca() # define axis  \n",
    "\n",
    "boost_vs_stacked.plot.bar(ax=ax, color=colors)\n",
    "ax.set_title('Boost vs stacked ensembles (Avg MAE Plot)' )\n",
    "plt.savefig(\"Boost_vs_stacked_ensembles\")"
   ]
  },
  {
   "cell_type": "markdown",
   "metadata": {},
   "source": [
    "### Avg MAE Plot For all models"
   ]
  },
  {
   "cell_type": "code",
   "execution_count": 111,
   "metadata": {},
   "outputs": [
    {
     "data": {
      "image/png": "[encoded data removed]",
      "text/plain": [
       "<Figure size 432x432 with 1 Axes>"
      ]
     },
     "metadata": {
      "needs_background": "light"
     },
     "output_type": "display_data"
    }
   ],
   "source": [
    "colors = ['r','r','r','r','b','b','b','b','g','g','g','y']\n",
    "\n",
    "avg_mae = results.sum(axis=0).drop(['Datasets'], axis=0)\n",
    "#Plot average plot\n",
    "\n",
    "fig = plt.figure(figsize=(6,6)) # define plot area\n",
    "ax = fig.gca() # define axis  \n",
    "\n",
    "avg_mae.plot.bar(ax=ax, color=colors)\n",
    "ax.set_title('Avg MAE Plot For all models' )\n",
    "plt.savefig(\"Avg_MAE_Plot_For_all_models\")"
   ]
  },
  {
   "cell_type": "markdown",
   "metadata": {},
   "source": [
    "### MAE PLOT FOR ALL DATA SETS"
   ]
  },
  {
   "cell_type": "code",
   "execution_count": 107,
   "metadata": {},
   "outputs": [
    {
     "data": {
      "image/png": "[encoded data removed]",
      "text/plain": [
       "<Figure size 432x432 with 1 Axes>"
      ]
     },
     "metadata": {
      "needs_background": "light"
     },
     "output_type": "display_data"
    },
    {
     "data": {
      "image/png": "[encoded data removed]",
      "text/plain": [
       "<Figure size 432x432 with 1 Axes>"
      ]
     },
     "metadata": {
      "needs_background": "light"
     },
     "output_type": "display_data"
    },
    {
     "data": {
      "image/png": "[encoded data removed]",
      "text/plain": [
       "<Figure size 432x432 with 1 Axes>"
      ]
     },
     "metadata": {
      "needs_background": "light"
     },
     "output_type": "display_data"
    },
    {
     "data": {
      "image/png": "[encoded data removed]",
      "text/plain": [
       "<Figure size 432x432 with 1 Axes>"
      ]
     },
     "metadata": {
      "needs_background": "light"
     },
     "output_type": "display_data"
    },
    {
     "data": {
      "image/png": "[encoded data removed]",
      "text/plain": [
       "<Figure size 432x432 with 1 Axes>"
      ]
     },
     "metadata": {
      "needs_background": "light"
     },
     "output_type": "display_data"
    },
    {
     "data": {
      "image/png": "[encoded data removed]",
      "text/plain": [
       "<Figure size 432x432 with 1 Axes>"
      ]
     },
     "metadata": {
      "needs_background": "light"
     },
     "output_type": "display_data"
    },
    {
     "data": {
      "image/png": "[encoded data removed]",
      "text/plain": [
       "<Figure size 432x432 with 1 Axes>"
      ]
     },
     "metadata": {
      "needs_background": "light"
     },
     "output_type": "display_data"
    },
    {
     "data": {
      "image/png": "[encoded data removed]",
      "text/plain": [
       "<Figure size 432x432 with 1 Axes>"
      ]
     },
     "metadata": {
      "needs_background": "light"
     },
     "output_type": "display_data"
    },
    {
     "data": {
      "image/png": "[encoded data removed]",
      "text/plain": [
       "<Figure size 432x432 with 1 Axes>"
      ]
     },
     "metadata": {
      "needs_background": "light"
     },
     "output_type": "display_data"
    }
   ],
   "source": [
    "for i,dat_name in enumerate(results['Datasets']):\n",
    "    fig = plt.figure(figsize=(6,6)) # define plot area\n",
    "    ax = fig.gca() # define axis  \n",
    "    \n",
    "    results.iloc[i,1:].plot.bar(ax=ax, color=colors)\n",
    "    ax.set_title('MAE Bar plot for ' + dat_name ) \n",
    "    "
   ]
  }
 ],
 "metadata": {
  "kernelspec": {
   "display_name": "Python 3",
   "language": "python",
   "name": "python3"
  },
  "language_info": {
   "codemirror_mode": {
    "name": "ipython",
    "version": 3
   },
   "file_extension": ".py",
   "mimetype": "text/x-python",
   "name": "python",
   "nbconvert_exporter": "python",
   "pygments_lexer": "ipython3",
   "version": "3.7.1"
  }
 },
 "nbformat": 4,
 "nbformat_minor": 2
}
